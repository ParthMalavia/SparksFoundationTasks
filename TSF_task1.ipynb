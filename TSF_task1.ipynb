{
  "nbformat": 4,
  "nbformat_minor": 0,
  "metadata": {
    "colab": {
      "name": "TSF_task1.ipynb",
      "provenance": []
    },
    "kernelspec": {
      "display_name": "Python 3",
      "name": "python3"
    },
    "language_info": {
      "name": "python"
    }
  },
  "cells": [
    {
      "cell_type": "code",
      "metadata": {
        "id": "vWj7R4W-IZU8"
      },
      "source": [
        "# Given below is link for dataset\n",
        "# http://bit.ly/w-data"
      ],
      "execution_count": null,
      "outputs": []
    },
    {
      "cell_type": "code",
      "metadata": {
        "id": "isXYzh-XIm4q"
      },
      "source": [
        "import pandas as pd\n",
        "import numpy as np  \n",
        "import matplotlib.pyplot as plt\n"
      ],
      "execution_count": null,
      "outputs": []
    },
    {
      "cell_type": "markdown",
      "metadata": {
        "id": "k5O7wlV0e9aR"
      },
      "source": [
        "Importing dataset from link."
      ]
    },
    {
      "cell_type": "code",
      "metadata": {
        "colab": {
          "base_uri": "https://localhost:8080/"
        },
        "id": "P3gEyTHLIna9",
        "outputId": "713ab4d5-7a2f-4383-d9c9-4db383bb043d"
      },
      "source": [
        "df = pd.read_csv(\"http://bit.ly/w-data\")\n",
        "df.shape"
      ],
      "execution_count": null,
      "outputs": [
        {
          "output_type": "execute_result",
          "data": {
            "text/plain": [
              "(25, 2)"
            ]
          },
          "metadata": {
            "tags": []
          },
          "execution_count": 3
        }
      ]
    },
    {
      "cell_type": "markdown",
      "metadata": {
        "id": "tg2N_aSRbYJf"
      },
      "source": [
        "Splitting dataset into traing and test dataset. "
      ]
    },
    {
      "cell_type": "code",
      "metadata": {
        "id": "sYl-ujKhwS95"
      },
      "source": [
        "from sklearn.model_selection import train_test_split\n",
        "# X = df.iloc[:,0].values\n",
        "# y = df.iloc[:,1].values\n",
        "\n",
        "X = df.iloc[:,:-1].values\n",
        "y = df.iloc[:,-1].values\n",
        "\n",
        "X_train, X_test, y_train, y_test = train_test_split(X, y, test_size=0.2)"
      ],
      "execution_count": null,
      "outputs": []
    },
    {
      "cell_type": "markdown",
      "metadata": {
        "id": "kaQpodJebiIQ"
      },
      "source": [
        "### Using predefined Linear regressor from sklearn"
      ]
    },
    {
      "cell_type": "code",
      "metadata": {
        "colab": {
          "base_uri": "https://localhost:8080/"
        },
        "id": "cOpsyqX6w7Sg",
        "outputId": "2ce8751f-50a7-41f9-ff7b-c75f96950f36"
      },
      "source": [
        "# Training Dataset\n",
        "from sklearn.linear_model import LinearRegression\n",
        "\n",
        "reg = LinearRegression()\n",
        "reg.fit(X_train,y_train)\n",
        "\n",
        "print(\"Trained\")"
      ],
      "execution_count": null,
      "outputs": [
        {
          "output_type": "stream",
          "text": [
            "Trained\n"
          ],
          "name": "stdout"
        }
      ]
    },
    {
      "cell_type": "code",
      "metadata": {
        "colab": {
          "base_uri": "https://localhost:8080/",
          "height": 195
        },
        "id": "kB_w7u2NyOfU",
        "outputId": "d05ab0be-6343-4dbc-f826-c087a551d996"
      },
      "source": [
        "# Predicting Test Data\n",
        "y_pred = reg.predict(X_test)\n",
        "\n",
        "pd.DataFrame({\"y_pred\":y_pred,\"True Value\":y_test})"
      ],
      "execution_count": null,
      "outputs": [
        {
          "output_type": "execute_result",
          "data": {
            "text/html": [
              "<div>\n",
              "<style scoped>\n",
              "    .dataframe tbody tr th:only-of-type {\n",
              "        vertical-align: middle;\n",
              "    }\n",
              "\n",
              "    .dataframe tbody tr th {\n",
              "        vertical-align: top;\n",
              "    }\n",
              "\n",
              "    .dataframe thead th {\n",
              "        text-align: right;\n",
              "    }\n",
              "</style>\n",
              "<table border=\"1\" class=\"dataframe\">\n",
              "  <thead>\n",
              "    <tr style=\"text-align: right;\">\n",
              "      <th></th>\n",
              "      <th>y_pred</th>\n",
              "      <th>True Value</th>\n",
              "    </tr>\n",
              "  </thead>\n",
              "  <tbody>\n",
              "    <tr>\n",
              "      <th>0</th>\n",
              "      <td>27.153077</td>\n",
              "      <td>21</td>\n",
              "    </tr>\n",
              "    <tr>\n",
              "      <th>1</th>\n",
              "      <td>85.841938</td>\n",
              "      <td>81</td>\n",
              "    </tr>\n",
              "    <tr>\n",
              "      <th>2</th>\n",
              "      <td>87.865692</td>\n",
              "      <td>75</td>\n",
              "    </tr>\n",
              "    <tr>\n",
              "      <th>3</th>\n",
              "      <td>47.390615</td>\n",
              "      <td>41</td>\n",
              "    </tr>\n",
              "    <tr>\n",
              "      <th>4</th>\n",
              "      <td>17.034308</td>\n",
              "      <td>20</td>\n",
              "    </tr>\n",
              "  </tbody>\n",
              "</table>\n",
              "</div>"
            ],
            "text/plain": [
              "      y_pred  True Value\n",
              "0  27.153077          21\n",
              "1  85.841938          81\n",
              "2  87.865692          75\n",
              "3  47.390615          41\n",
              "4  17.034308          20"
            ]
          },
          "metadata": {
            "tags": []
          },
          "execution_count": 6
        }
      ]
    },
    {
      "cell_type": "code",
      "metadata": {
        "colab": {
          "base_uri": "https://localhost:8080/",
          "height": 457
        },
        "id": "FtQThURH02U_",
        "outputId": "6ec2561e-4c10-4a74-e498-d319811d4fb0"
      },
      "source": [
        "# Plotting train and test results\n",
        "\n",
        "plt.subplots(figsize=(14, 7))\n",
        "\n",
        "plt.style.use('seaborn')\n",
        "plt.subplot(1,2,1)\n",
        "plt.title(\"Train\")\n",
        "plt.xlabel(\"X_train\")\n",
        "plt.scatter(X_train,y_train)\n",
        "plt.plot(X_train,reg.predict(X_train))\n",
        "\n",
        "plt.subplot(1,2,2)\n",
        "plt.title(\"Test\")\n",
        "plt.xlabel(\"X_test\")\n",
        "plt.scatter(X_test,y_test)\n",
        "plt.plot(X_test,reg.predict(X_test))\n",
        "\n",
        "plt.show()"
      ],
      "execution_count": null,
      "outputs": [
        {
          "output_type": "display_data",
          "data": {
            "image/png": "[encoded data removed]",
            "text/plain": [
              "<Figure size 1008x504 with 2 Axes>"
            ]
          },
          "metadata": {
            "tags": [],
            "needs_background": "light"
          }
        }
      ]
    },
    {
      "cell_type": "markdown",
      "metadata": {
        "id": "ml4ajXH1byDB"
      },
      "source": [
        "Here is another way to visualize data with regression line using seaborn.\n",
        "It is easy to write and gives batter visualization."
      ]
    },
    {
      "cell_type": "code",
      "metadata": {
        "colab": {
          "base_uri": "https://localhost:8080/",
          "height": 383
        },
        "id": "YZ_LeoV30TsA",
        "outputId": "1f057ee6-de29-4483-b48a-f59ce03ab034"
      },
      "source": [
        "import seaborn as sns\n",
        "\n",
        "sns.lmplot(x = \"Hours\", y = \"Scores\", data=df)\n",
        "plt.show()"
      ],
      "execution_count": null,
      "outputs": [
        {
          "output_type": "display_data",
          "data": {
            "image/png": "[encoded data removed]",
            "text/plain": [
              "<Figure size 360x360 with 1 Axes>"
            ]
          },
          "metadata": {
            "tags": []
          }
        }
      ]
    },
    {
      "cell_type": "markdown",
      "metadata": {
        "id": "sfsIOn2McTyd"
      },
      "source": [
        "In the graph points are away from the line, distance between them gives the error in regression."
      ]
    },
    {
      "cell_type": "code",
      "metadata": {
        "colab": {
          "base_uri": "https://localhost:8080/"
        },
        "id": "v7iVyws07_UF",
        "outputId": "c677469c-b237-48ac-af11-f3c2e38bbe30"
      },
      "source": [
        "from sklearn.metrics import mean_absolute_error\n",
        "\n",
        "print('Mean Absolute Error:', mean_absolute_error(y_pred,y_test))\n"
      ],
      "execution_count": null,
      "outputs": [
        {
          "output_type": "stream",
          "text": [
            "Mean Absolute Error: 6.643402915242037\n"
          ],
          "name": "stdout"
        }
      ]
    },
    {
      "cell_type": "code",
      "metadata": {
        "colab": {
          "base_uri": "https://localhost:8080/"
        },
        "id": "XKtNHZafTTG0",
        "outputId": "ede901b3-4eb4-4cad-dd45-813eb1e498c4"
      },
      "source": [
        "hr = int(input(\"Enter the study hours here: \"))\n",
        "if 0<=hr<10:\n",
        "    per = reg.predict([[hr]])\n",
        "    print(\"Expected percentage:\",\"{}%\".format(round(per[0],2)))\n",
        "else:\n",
        "    print(\"Enter in range of 0 to 10\")"
      ],
      "execution_count": null,
      "outputs": [
        {
          "output_type": "stream",
          "text": [
            "Enter the study hours here: 7\n",
            "Expected percentage: 72.69%\n"
          ],
          "name": "stdout"
        }
      ]
    }
  ]
}